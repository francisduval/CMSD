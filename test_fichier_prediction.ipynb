{
 "cells": [
  {
   "cell_type": "markdown",
   "metadata": {},
   "source": [
    "## Example d'utilisation\n",
    "\n",
    "Afin de s'assurer qu'il n'y aie pas de problème avec le fichier prediction que vous soumettez, nous avons préparé une fonction qui confirme que votre fichier csv est conforme au format requis. Si un problème est détecté, une exception sera soulevée avec un message d'erreur.\n",
    "\n",
    "Voici un exemple de son utlisation:"
   ]
  },
  {
   "cell_type": "markdown",
   "metadata": {},
   "source": [
    "## Example Use\n",
    "\n",
    "To ensure there are no problem with the prediction file you submit, we prepared a function to confirm your csv file is compliant with the required format. If a problem is detected, an exception is raised with the error message.\n",
    "\n",
    "Here is an example of its use:"
   ]
  },
  {
   "cell_type": "code",
   "execution_count": 1,
   "metadata": {},
   "outputs": [],
   "source": [
    "import os\n",
    "from utils.validate_file_function import validation_csv"
   ]
  },
  {
   "cell_type": "code",
   "execution_count": 3,
   "metadata": {},
   "outputs": [
    {
     "data": {
      "text/plain": [
       "'-'"
      ]
     },
     "execution_count": 3,
     "metadata": {},
     "output_type": "execute_result"
    }
   ],
   "source": [
    "# assurez-vous que ce chemin correspond au chemin du répertoire, sinon vous devrez modifier le chemin manuellement.\n",
    "# ensure the path is corresponding to the repository, otherwise you will need to modify the path manually\n",
    "os.getcwd()"
   ]
  },
  {
   "cell_type": "code",
   "execution_count": 4,
   "metadata": {},
   "outputs": [
    {
     "data": {
      "text/plain": [
       "'Super, le fichier de prediction est conforme! Bonne chance :)'"
      ]
     },
     "execution_count": 4,
     "metadata": {},
     "output_type": "execute_result"
    }
   ],
   "source": [
    "# Ne PAS inclure `.csv` à la fin\n",
    "# Do NOT include `.csv` at the end\n",
    "validation_csv(filename='prediction_example', \n",
    "               folderpath=os.getcwd())"
   ]
  }
 ],
 "metadata": {
  "kernelspec": {
   "display_name": "base",
   "language": "python",
   "name": "python3"
  },
  "language_info": {
   "codemirror_mode": {
    "name": "ipython",
    "version": 3
   },
   "file_extension": ".py",
   "mimetype": "text/x-python",
   "name": "python",
   "nbconvert_exporter": "python",
   "pygments_lexer": "ipython3",
   "version": "3.9.12"
  },
  "orig_nbformat": 4
 },
 "nbformat": 4,
 "nbformat_minor": 2
}
