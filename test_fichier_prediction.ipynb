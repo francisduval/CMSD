{
 "cells": [
  {
   "cell_type": "markdown",
   "metadata": {},
   "source": [
    "## Example d'utilisation\n",
    "\n",
    "Afin de s'assurer qu'il n'y aie pas de problème avec le fichier prediction, nous avons préparé une fonction pour s'assurer que votre fichier csv est conforme au format requis. Si un  problème est détecté, une exception sera soulevée.\n",
    "\n",
    "Voici un exemple de son utlisation:"
   ]
  },
  {
   "cell_type": "code",
   "execution_count": 1,
   "metadata": {},
   "outputs": [],
   "source": [
    "import os\n",
    "from utils.validate_file_function import validation_csv"
   ]
  },
  {
   "cell_type": "code",
   "execution_count": 3,
   "metadata": {},
   "outputs": [
    {
     "data": {
      "text/plain": [
       "'c:\\\\Users\\\\CE948876\\\\OneDrive - Co-operators\\\\Desktop\\\\Repos\\\\datasciencecompetition2023\\\\bitbucket_pour_etudiants'"
      ]
     },
     "execution_count": 3,
     "metadata": {},
     "output_type": "execute_result"
    }
   ],
   "source": [
    "# assurez-vous que ce chemin correspond au chemin du repos, sinon vous devrez modifier le chemin manuellement.\n",
    "os.getcwd()"
   ]
  },
  {
   "cell_type": "code",
   "execution_count": 4,
   "metadata": {},
   "outputs": [
    {
     "data": {
      "text/plain": [
       "'Super, le fichier de prediction est conforme! Bonne chance :)'"
      ]
     },
     "execution_count": 4,
     "metadata": {},
     "output_type": "execute_result"
    }
   ],
   "source": [
    "validation_csv(filename='prediction_example', #ne pas inclure `.csv` à la fin\n",
    "               folderpath=os.getcwd())"
   ]
  }
 ],
 "metadata": {
  "kernelspec": {
   "display_name": "base",
   "language": "python",
   "name": "python3"
  },
  "language_info": {
   "codemirror_mode": {
    "name": "ipython",
    "version": 3
   },
   "file_extension": ".py",
   "mimetype": "text/x-python",
   "name": "python",
   "nbconvert_exporter": "python",
   "pygments_lexer": "ipython3",
   "version": "3.9.12"
  },
  "orig_nbformat": 4
 },
 "nbformat": 4,
 "nbformat_minor": 2
}
